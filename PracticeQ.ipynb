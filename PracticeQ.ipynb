{
 "cells": [
  {
   "cell_type": "code",
   "execution_count": null,
   "id": "a1cdf3ed-6fb0-4e01-bf28-ba1b08fb1789",
   "metadata": {},
   "outputs": [],
   "source": [
    "# 1. *Type Casting & If-Else:*\n",
    "#    - Take a user input as a string. If it represents an integer, convert it to an integer and check if it's even or odd. If it's a float, print its square.\n",
    "\n",
    "# 2. *User Input & Conditional Operators:*\n",
    "#    - Ask the user for two numbers and a mathematical operation (addition, subtraction, multiplication, division).\n",
    "# Perform the operation and print the result.\n",
    "\n",
    "# 3. *Data Types & If-Else:*\n",
    "#    - Declare a variable and check if it's a string. If true, print its length; if false, check if it's an integer and print its square.\n",
    "\n",
    "# 4. *Type Casting & User Input:*\n",
    "#    - Take a user input as a number. Convert it to a float, then to an integer, and finally back to a string. Print the final result.\n",
    "\n",
    "# 5. *If-Else & Conditional Operators:*\n",
    "#    - Ask the user for their age. If it's between 18 and 25 (inclusive), print \"Young Adult,\" otherwise print \"Not a Young Adult.\"\n",
    "\n",
    "# 6. *Data Types & If-Else:*\n",
    "#    - Create a list containing a mix of integers and strings. Check if the first element is an integer and print its square, otherwise print the length of the list.\n",
    "\n",
    "# 7. *Type Casting & User Input:*\n",
    "#    - Take two numbers as input, one integer and one float. Multiply them and print the result as a float.\n",
    "\n",
    "# 8. *If-Else & Conditional Operators:*\n",
    "#    - Ask the user to input a grade (A, B, C, D, or F). Determine and print if it's a passing grade (A, B, C).\n",
    "\n",
    "# 9. *User Input & Data Types:*\n",
    "#    - Prompt the user for a sentence. Check if it contains the word \"Python\" and print a message accordingly.\n",
    "\n",
    "# 10. *Data Types & Conditional Operators:*\n",
    "#     - Declare a variable and check if it's a positive integer. If true, print \"Positive integer,\" otherwise check if it's a negative integer and print \"Negative integer.\"\n",
    "\n",
    "# 11. *If-Else & Type Casting:*\n",
    "#     - Ask the user for their birth year and calculate their age. If the age is greater than 18, print \"You are an adult.\"\n",
    "\n",
    "# 12. *User Input & Data Types:*\n",
    "#     - Take a user input as a comma-separated string of numbers. Convert it into a list of integers and find the sum.\n",
    "\n",
    "# 13. *Conditional Operators & If-Else:*\n",
    "#     - Ask the user for two numbers and check if their sum is greater than, equal to, or less than 100. Print the result.\n",
    "\n",
    "# 14. *Type Casting & Data Types:*\n",
    "#     - Take a user input as a number, convert it to a float, and then check if the decimal part is greater than 0.5. Print the result.\n",
    "\n",
    "# 15. *Data Types & User Input:*\n",
    "#     - Create a tuple with different data types. Ask the user to input an index and print the corresponding element.\n",
    "\n",
    "# 16. *If-Else & Type Casting:*\n",
    "#     - Take a user input as a number. Check if it's divisible by both 3 and 5. If true, print \"Divisible by 3 and 5,\" otherwise print \"Not divisible by 3 and 5.\"\n",
    "\n",
    "# 17. *Conditional Operators & Data Types:*\n",
    "#     - Declare a variable and check if it's a non-empty string. If true, print \"String is not empty,\" otherwise print \"String is empty.\"\n",
    "\n",
    "# 18. *Type Casting & If-Else:*\n",
    "#     - Take a user input as a string. If it can be converted to an integer, check if it's even or odd. If it's a float, print its square root.\n",
    "\n",
    "# 19. *User Input & Data Types:*\n",
    "#     - Ask the user to enter a sentence. Count and print the number of vowels (a, e, i, o, u) in the sentence.\n",
    "\n",
    "# 20. *If-Else & Conditional Operators:*\n",
    "#     - Take three numbers from the user and find the minimum among them. If the minimum is less than 10, print \"Below 10,\" otherwise print \"10 or above.\""
   ]
  },
  {
   "cell_type": "code",
   "execution_count": 8,
   "id": "db1ef309-3a1b-4045-85de-0a66b8c3eeca",
   "metadata": {},
   "outputs": [
    {
     "name": "stdin",
     "output_type": "stream",
     "text": [
      "Enter value : 1\n"
     ]
    }
   ],
   "source": [
    "# 1. *Type Casting & If-Else:*\n",
    "#    - Take a user input as a string. If it represents an integer, convert it to an integer and check if it's even or odd. If it's a float, print its square.\n",
    "\n"
   ]
  },
  {
   "cell_type": "code",
   "execution_count": 13,
   "id": "0183ef35-54a2-4206-93c9-4a142bcc767f",
   "metadata": {},
   "outputs": [
    {
     "name": "stdin",
     "output_type": "stream",
     "text": [
      "enter value 1: 6\n",
      "enter value 2: 4\n",
      "enter opration : add, sub, mul, div  mul\n"
     ]
    },
    {
     "name": "stdout",
     "output_type": "stream",
     "text": [
      "the result of mul if :24\n"
     ]
    }
   ],
   "source": [
    "# 2. *User Input & Conditional Operators:*\n",
    "#    - Ask the user for two numbers and a mathematical operation (addition, subtraction, multiplication, division).\n",
    "# Perform the operation and print the result.\n",
    "\n",
    "no1 = int(input('enter value 1:'))\n",
    "no2 = int(input('enter value 2:'))\n",
    "operation = input('enter opration : add, sub, mul, div ')\n",
    "\n",
    "if operation == 'add':\n",
    "    res = no1 + no2\n",
    "elif operation == 'sub':\n",
    "    res = no1 - no2\n",
    "elif operation == 'mul':\n",
    "    res = no1 * no2\n",
    "elif operation == 'div':\n",
    "    res = no1 / no2\n",
    "print(f'the result of {operation} if :{res}')\n"
   ]
  },
  {
   "cell_type": "code",
   "execution_count": 69,
   "id": "512022ad-bca8-4900-a1d5-1e63ad342e4a",
   "metadata": {},
   "outputs": [
    {
     "name": "stdout",
     "output_type": "stream",
     "text": [
      "81\n"
     ]
    }
   ],
   "source": [
    "# 3. *Data Types & If-Else:*\n",
    "#    - Declare a variable and check if it's a string. If true, print its length; if false, check if it's an integer and print its square.\n",
    "\n",
    "variable_1 = 9\n",
    "if type(variable_1) == str:\n",
    "    res1 = len(variable_1)\n",
    "elif type(variable_1) == int:\n",
    "        res1 = variable_1 * variable_1\n",
    "print(res1)"
   ]
  },
  {
   "cell_type": "code",
   "execution_count": 108,
   "id": "6544cfb2-8f8a-4726-a8ef-4ef5f6309e47",
   "metadata": {},
   "outputs": [
    {
     "name": "stdin",
     "output_type": "stream",
     "text": [
      "Enter Number :  65\n"
     ]
    },
    {
     "name": "stdout",
     "output_type": "stream",
     "text": [
      "65.0\n",
      "65\n",
      "65\n",
      "str_v :<class 'str'>:65\n"
     ]
    }
   ],
   "source": [
    "# 4. *Type Casting & User Input:*\n",
    "#    - Take a user input as a number. Convert it to a float, then to an integer, and finally back to a string. Print the final result.\n",
    "\n",
    "number = int(input('Enter Number : '))\n",
    "\n",
    "float_v = float(number)\n",
    "print(float_v)\n",
    "int_v = int(float_v)\n",
    "print(int_v)\n",
    "str_v = str(int_v)\n",
    "print(str_v)\n",
    "print(f'str_v :{type(str_v)}:{str_v}')"
   ]
  },
  {
   "cell_type": "code",
   "execution_count": 116,
   "id": "83496fbb-c346-4300-ac15-5f3bb2494fbe",
   "metadata": {},
   "outputs": [
    {
     "name": "stdin",
     "output_type": "stream",
     "text": [
      "Enter your age : 25\n"
     ]
    },
    {
     "name": "stdout",
     "output_type": "stream",
     "text": [
      "Young Adult.\n"
     ]
    }
   ],
   "source": [
    "# 5. *If-Else & Conditional Operators:*\n",
    "#    - Ask the user for their age. If it's between 18 and 25 (inclusive), print \"Young Adult,\" otherwise print \"Not a Young Adult.\"\n",
    "\n",
    "age = int(input('Enter your age :'))\n",
    "if (age>=18) and (age<=25):\n",
    "     print('Young Adult.')\n",
    "else:\n",
    "    print('Not a Young Adult')"
   ]
  },
  {
   "cell_type": "code",
   "execution_count": 126,
   "id": "c3c5cb6f-3f7a-4712-9306-cea711d6a8bc",
   "metadata": {},
   "outputs": [
    {
     "name": "stdout",
     "output_type": "stream",
     "text": [
      "5\n"
     ]
    }
   ],
   "source": [
    "# 6. *Data Types & If-Else:*\n",
    "#    - Create a list containing a mix of integers and strings. Check if the first element is an integer and print its square, otherwise print the length of the list.\n",
    "\n",
    "my_list = ['i','a',8,'hii',50]\n",
    "if type(my_list[0]) == int:\n",
    "    print(my_list[0] * my_list[0])\n",
    "else:\n",
    "     print(len(my_list))"
   ]
  },
  {
   "cell_type": "code",
   "execution_count": 140,
   "id": "13496b9f-7881-47ee-985d-b6de6994452d",
   "metadata": {},
   "outputs": [
    {
     "name": "stdin",
     "output_type": "stream",
     "text": [
      "Enter i_number 4\n",
      "Enter f_number 3\n"
     ]
    },
    {
     "name": "stdout",
     "output_type": "stream",
     "text": [
      "12.0\n"
     ]
    }
   ],
   "source": [
    "# 7. *Type Casting & User Input:*\n",
    "#    - Take two numbers as input, one integer and one float. Multiply them and print the result as a float.\n",
    "\n",
    "i_num = int(input('Enter i_number'))\n",
    "f_num = float(input('Enter f_number'))\n",
    "print(i_num * f_num) "
   ]
  },
  {
   "cell_type": "code",
   "execution_count": 143,
   "id": "64292ce2-2ea3-4bcb-9a98-c1c3132d3870",
   "metadata": {},
   "outputs": [
    {
     "name": "stdin",
     "output_type": "stream",
     "text": [
      "Enter a grade c\n"
     ]
    },
    {
     "name": "stdout",
     "output_type": "stream",
     "text": [
      "Pass\n"
     ]
    }
   ],
   "source": [
    "# 8. *If-Else & Conditional Operators:*\n",
    "#    - Ask the user to input a grade (A, B, C, D, or F). Determine and print if it's a passing grade (A, B, C).\n",
    "\n",
    "grade = input('Enter a grade')\n",
    "if grade == 'a':\n",
    "    print('Pass')\n",
    "elif grade == 'b':\n",
    "    print('Pass')\n",
    "elif grade == 'c':\n",
    "    print('Pass')\n",
    "elif grade == 'd':\n",
    "    print('ATKT')\n",
    "else:\n",
    "    print('fail')\n"
   ]
  },
  {
   "cell_type": "code",
   "execution_count": 4,
   "id": "72e1b54f-11ca-411b-b772-04ef2f8d4c7c",
   "metadata": {},
   "outputs": [
    {
     "name": "stdin",
     "output_type": "stream",
     "text": [
      "Enter sentence python are easy\n"
     ]
    },
    {
     "name": "stdout",
     "output_type": "stream",
     "text": [
      "accordingly\n"
     ]
    }
   ],
   "source": [
    "# 9. *User Input & Data Types:*\n",
    "#    - Prompt the user for a sentence. Check if it contains the word \"Python\" and print a message accordingly.\n",
    "\n",
    "user_i = input('Enter sentence')\n",
    "if 'python' in user_i :\n",
    "    print('accordingly')\n",
    "else:\n",
    "    print('wrong sentence')"
   ]
  },
  {
   "cell_type": "code",
   "execution_count": 20,
   "id": "9bebc1bf-d33f-4950-87ce-617da7ca1c02",
   "metadata": {},
   "outputs": [
    {
     "name": "stdin",
     "output_type": "stream",
     "text": [
      "Enter Number -4\n"
     ]
    },
    {
     "name": "stdout",
     "output_type": "stream",
     "text": [
      "Nagative Number\n"
     ]
    }
   ],
   "source": [
    "# 10. *Data Types & Conditional Operators:*\n",
    "#     - Declare a variable and check if it's a positive integer. If true, print \"Positive integer,\" otherwise check if it's a negative integer and print \"Negative integer.\"\n",
    "\n",
    "number_1 = int(input('Enter Number'))\n",
    "if number_1 == 0:\n",
    "    print('neither positive nor negative.')\n",
    "elif number_1 > 0 :\n",
    "    print('Positive Number')\n",
    "else:\n",
    "    print('Nagative Number')"
   ]
  },
  {
   "cell_type": "code",
   "execution_count": 35,
   "id": "50e46f09-4b64-4c5e-911a-481508933cb0",
   "metadata": {},
   "outputs": [
    {
     "name": "stdin",
     "output_type": "stream",
     "text": [
      "Enter Birth year : 2015\n"
     ]
    },
    {
     "name": "stdout",
     "output_type": "stream",
     "text": [
      "You are not adult\n"
     ]
    }
   ],
   "source": [
    "# 11. *If-Else & Type Casting:*\n",
    "#     - Ask the user for their birth year and calculate their age. If the age is greater than 18, print \"You are an adult.\"\n",
    "\n",
    "birth = int(input('Enter Birth year :'))\n",
    "age =  2024 - birth \n",
    "\n",
    "if age >= 18 :\n",
    "    print('You are adult.')\n",
    "else:\n",
    "    print('You are not adult')"
   ]
  },
  {
   "cell_type": "code",
   "execution_count": 52,
   "id": "955673a1-33e3-493d-9427-c6e8fd03a4fe",
   "metadata": {},
   "outputs": [
    {
     "name": "stdin",
     "output_type": "stream",
     "text": [
      "Enter a comma-separated string of numbers:  3,24,123,12334,7\n"
     ]
    },
    {
     "name": "stdout",
     "output_type": "stream",
     "text": [
      "The sum of the numbers is: 12491\n"
     ]
    }
   ],
   "source": [
    "# 12. *User Input & Data Types:*\n",
    "#     - Take a user input as a comma-separated string of numbers. Convert it into a list of integers and find the sum.\n",
    "\n",
    "user_input = input(\"Enter a comma-separated string of numbers: \")\n",
    "\n",
    "numbers = [int(num) for num in user_input.split(',')]\n",
    "sum_of_numbers = sum(numbers)\n",
    "print(f\"The sum of the numbers is: {sum_of_numbers}\")"
   ]
  },
  {
   "cell_type": "code",
   "execution_count": 57,
   "id": "63717f9e-15c8-4340-bbb9-2b99a0b04757",
   "metadata": {},
   "outputs": [
    {
     "name": "stdin",
     "output_type": "stream",
     "text": [
      "Enter value one : 50\n",
      "Enter value two : 50\n"
     ]
    },
    {
     "name": "stdout",
     "output_type": "stream",
     "text": [
      "sum equal to 100\n",
      "sum is :100\n"
     ]
    }
   ],
   "source": [
    "# 13. *Conditional Operators & If-Else:*\n",
    "#     - Ask the user for two numbers and check if their sum is greater than, equal to, or less than 100. Print the result.\n",
    "\n",
    "one1 = int(input('Enter value one :'))\n",
    "two2 = int(input('Enter value two :'))\n",
    "sum = one1 + two2\n",
    "if sum > 100:\n",
    "    print('sum greater-than 100')\n",
    "elif sum == 100:\n",
    "    print('sum equal to 100')\n",
    "elif sum < 100:\n",
    "    print('sum less than 100')\n",
    "print(f'sum is :{sum}')"
   ]
  },
  {
   "cell_type": "code",
   "execution_count": 69,
   "id": "d649910d-4b25-485e-8053-9247c436b491",
   "metadata": {},
   "outputs": [
    {
     "name": "stdin",
     "output_type": "stream",
     "text": [
      "Enter value : 65.56\n"
     ]
    },
    {
     "name": "stdout",
     "output_type": "stream",
     "text": [
      "The decimal part of 0.5600000000000023 is greater than 0.5\n"
     ]
    }
   ],
   "source": [
    "# 14. *Type Casting & Data Types:*\n",
    "#     - Take a user input as a number, convert it to a float, and then check if the decimal part is greater than 0.5. Print the result.\n",
    "\n",
    "val = input('Enter value :')\n",
    "number2 = float(val)\n",
    "dec = number2 % 1\n",
    "if dec > 0.5:\n",
    "    print(f\"The decimal part of {dec} is greater than 0.5\")\n",
    "else:\n",
    "    print(f\"The decimal part of {dec} is less than 0.5\")\n"
   ]
  },
  {
   "cell_type": "code",
   "execution_count": 6,
   "id": "a7a4a223-4b02-4fb1-ad41-d8468ec2080e",
   "metadata": {},
   "outputs": [
    {
     "name": "stdin",
     "output_type": "stream",
     "text": [
      "Enter value : 1\n"
     ]
    },
    {
     "name": "stdout",
     "output_type": "stream",
     "text": [
      "user input value index:0\n",
      "user input value index:1\n",
      "user input value index:2\n",
      "user input value index:3\n",
      "user input value index:4\n",
      "user input value index:5\n",
      "user input value index:6\n"
     ]
    }
   ],
   "source": [
    "# 15. *Data Types & User Input:*\n",
    "#     - Create a tuple with different data types. Ask the user to input an index and print the corresponding element.\n",
    "my_tuple = (1,2,'3','hii',4.4,5,5.5)\n",
    "user_input = (input('Enter value :'))\n",
    "for value in my_tuple:\n",
    "    if value in my_tuple:\n",
    "        print(f'user input value index:{my_tuple.index(value)}')\n",
    "    else:\n",
    "        print('Not in my_tuple')"
   ]
  },
  {
   "cell_type": "code",
   "execution_count": 9,
   "id": "6246004a-ebd3-49ca-bdbf-52508c4e9cf6",
   "metadata": {},
   "outputs": [
    {
     "name": "stdin",
     "output_type": "stream",
     "text": [
      "Enter Number : 3424\n"
     ]
    },
    {
     "name": "stdout",
     "output_type": "stream",
     "text": [
      "3424 is Divisible by 3 and 5\n"
     ]
    }
   ],
   "source": [
    "# 16. *If-Else & Type Casting:*\n",
    "#     - Take a user input as a number. Check if it's divisible by both 3 and 5. If true, print \"Divisible by 3 and 5,\" otherwise print \"Not divisible by 3 and 5.\"\n",
    "\n",
    "u1 = int( input('Enter Number :'))\n",
    "\n",
    "if (u1 % 3) and (u1 % 5) :\n",
    "    print(f'{u1} is Divisible by 3 and 5')\n",
    "else:\n",
    "    print('Not divisible by 3 and 5.')"
   ]
  },
  {
   "cell_type": "code",
   "execution_count": 12,
   "id": "847cf050-e10f-41b4-a14b-a04e28b265d8",
   "metadata": {},
   "outputs": [
    {
     "name": "stdin",
     "output_type": "stream",
     "text": [
      "Enter Somthing sedf\n"
     ]
    },
    {
     "name": "stdout",
     "output_type": "stream",
     "text": [
      "String is not empty\n"
     ]
    }
   ],
   "source": [
    "# 17. *Conditional Operators & Data Types:*\n",
    "#     - Declare a variable and check if it's a non-empty string. If true, print \"String is not empty,\" otherwise print \"String is empty.\"\n",
    "\n",
    "v3 = input('Enter Somthing')\n",
    "\n",
    "if v3 != '':\n",
    "    print('String is not empty')\n",
    "else:\n",
    "    print('String is empty')"
   ]
  },
  {
   "cell_type": "code",
   "execution_count": 28,
   "id": "7401ad46-b6b2-461e-8ede-2442c74a8c16",
   "metadata": {},
   "outputs": [
    {
     "name": "stdin",
     "output_type": "stream",
     "text": [
      "Enter Somthing 4543\n"
     ]
    },
    {
     "name": "stdout",
     "output_type": "stream",
     "text": [
      "Odd\n"
     ]
    }
   ],
   "source": [
    "# 18. *Type Casting & If-Else:*\n",
    "#     - Take a user input as a string. If it can be converted to an integer, check if it's even or odd. If it's a float, print its square root.\n",
    "\n",
    "i1 = input('Enter Somthing')\n",
    "i2 = int(i1)\n",
    "if type(i2) == int:\n",
    "    if i2 % 2 == 0:\n",
    "        print('even')\n",
    "    else:\n",
    "        print('Odd')\n",
    "\n"
   ]
  },
  {
   "cell_type": "code",
   "execution_count": 40,
   "id": "44b2fab5-ed66-4309-bd81-1ad0246baf11",
   "metadata": {},
   "outputs": [
    {
     "name": "stdin",
     "output_type": "stream",
     "text": [
      "Enter a sentence hii how are you : i am fine\n"
     ]
    },
    {
     "name": "stdout",
     "output_type": "stream",
     "text": [
      "Number of vowels in the sentence :11\n"
     ]
    }
   ],
   "source": [
    "# 19. *User Input & Data Types:*\n",
    "#     - Ask the user to enter a sentence. Count and print the number of vowels (a, e, i, o, u) in the sentence.\n",
    "\n",
    "sen1 = input('Enter a sentence')\n",
    "vowels = set('AEIOUaeiou')\n",
    "v_count = 0\n",
    "for vowel in sen1:\n",
    "    if vowel in vowels:\n",
    "        v_count += 1\n",
    "print(f'Number of vowels in the sentence :{v_count}')"
   ]
  },
  {
   "cell_type": "code",
   "execution_count": 3,
   "id": "84ecf4fe-e043-49b3-8307-7bdc0c4f3b5d",
   "metadata": {},
   "outputs": [
    {
     "name": "stdin",
     "output_type": "stream",
     "text": [
      "Enter No1 : 1\n",
      "Enter No2 : 2\n",
      "Enter No3 : 3\n"
     ]
    },
    {
     "name": "stdout",
     "output_type": "stream",
     "text": [
      "no1 is less than 10 1\n",
      "no2 is less than 10 2\n",
      "no3 is less than 10 3\n"
     ]
    }
   ],
   "source": [
    "# 20. *If-Else & Conditional Operators:*\n",
    "#     - Take three numbers from the user and find the minimum among them. If the minimum is less than 10, print \"Below 10,\" otherwise print \"10 or above.\"\n",
    "\n",
    "no1 = int(input('Enter No1 :'))\n",
    "no2 = int(input('Enter No2 :'))\n",
    "no3 = int(input('Enter No3 :'))\n",
    "\n",
    "if no1 < 10 :\n",
    "    print('no1 is less than 10',no1)\n",
    "    if no2 < 10 :\n",
    "        print('no2 is less than 10',no2)\n",
    "        if no3 < 10 :\n",
    "            print('no3 is less than 10',no3)"
   ]
  }
 ],
 "metadata": {
  "kernelspec": {
   "display_name": "Python 3 (ipykernel)",
   "language": "python",
   "name": "python3"
  },
  "language_info": {
   "codemirror_mode": {
    "name": "ipython",
    "version": 3
   },
   "file_extension": ".py",
   "mimetype": "text/x-python",
   "name": "python",
   "nbconvert_exporter": "python",
   "pygments_lexer": "ipython3",
   "version": "3.12.1"
  }
 },
 "nbformat": 4,
 "nbformat_minor": 5
}
